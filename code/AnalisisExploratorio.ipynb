{
 "cells": [
  {
   "cell_type": "markdown",
   "metadata": {},
   "source": [
    "# Análisis Descriptivo y Exploratorio\n",
    "## Carga del DS"
   ]
  },
  {
   "cell_type": "markdown",
   "metadata": {},
   "source": [
    "1. **Describir la Población de Estudio**:\n",
    "    - Edad, género y distribución geográfica de los pacientes.\n",
    "    - Tipos de seguros predominantes.\n",
    "2. **Describir los Valores de Hemoglobina**:\n",
    "    - Distribución de los valores de hemoglobina al momento del diagnóstico.\n",
    "    - Evolución de los valores de hemoglobina en los distintos seguimientos."
   ]
  },
  {
   "cell_type": "code",
   "execution_count": null,
   "metadata": {},
   "outputs": [],
   "source": []
  }
 ],
 "metadata": {
  "language_info": {
   "name": "python"
  }
 },
 "nbformat": 4,
 "nbformat_minor": 2
}
